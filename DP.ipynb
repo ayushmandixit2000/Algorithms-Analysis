{
 "cells": [
  {
   "cell_type": "code",
   "execution_count": null,
   "metadata": {},
   "outputs": [],
   "source": []
  },
  {
   "attachments": {},
   "cell_type": "markdown",
   "metadata": {},
   "source": [
    "## Part 1"
   ]
  },
  {
   "attachments": {},
   "cell_type": "markdown",
   "metadata": {},
   "source": [
    "The recursive definition of the function P(C) can be defined as follows:\n",
    "\n",
    "Recurrence relation: P(C) = max { pi + P(C — wi), P(C)} or\n",
    "\n",
    "P(C) = max { pi + P(C — wi)} when i goes from 0 to n-1\n",
    "\n",
    "This problem has unlimited number of each item, so the item value does not have to change for each iteration. Therefore, only one variable is sufficient.\n",
    "\n",
    "The first part of the equation (pi + P(C - wi)) represents the maximum profit that can be made by including at least one object of type i in the knapsack, and the second part of the equation (P(C)) represents the maximum profit that can be made by excluding all objects of type i from the knapsack.\n",
    "\n",
    "Since there are unlimited supplies of each type of object, the item value does not change for each iteration. Therefore, only one variable is sufficient to represent the maximum profit that can be made by packing objects into the knapsack of capacity C"
   ]
  },
  {
   "attachments": {},
   "cell_type": "markdown",
   "metadata": {},
   "source": [
    "## Part 3\n"
   ]
  },
  {
   "cell_type": "code",
   "execution_count": 2,
   "metadata": {},
   "outputs": [],
   "source": [
    "def unboundedKnapsack(C, n, p, w):\n",
    " \n",
    "    # dp[i] is going to store maximum\n",
    "    # value with knapsack capacity i.\n",
    "    dp = [0 for i in range(C + 1)]\n",
    " \n",
    "    ans = 0\n",
    " \n",
    "    # Fill dp[] using above recursive formula\n",
    "    for i in range(C + 1):\n",
    "        for j in range(n):\n",
    "            if (w[j] <= i):\n",
    "                dp[i] = max(dp[i], dp[i - w[j]] + p[j])\n",
    " \n",
    "    return dp[C]\n",
    " \n"
   ]
  },
  {
   "attachments": {},
   "cell_type": "markdown",
   "metadata": {},
   "source": [
    "## Part 4"
   ]
  },
  {
   "attachments": {},
   "cell_type": "markdown",
   "metadata": {},
   "source": [
    "## part a"
   ]
  },
  {
   "cell_type": "code",
   "execution_count": 3,
   "metadata": {},
   "outputs": [
    {
     "name": "stdout",
     "output_type": "stream",
     "text": [
      "21\n"
     ]
    }
   ],
   "source": [
    "# # Driver program\n",
    "C = 14\n",
    "w = [4, 6, 8]\n",
    "p = [7, 6, 9]\n",
    "n = len(w)\n",
    " \n",
    "print(unboundedKnapsack(C, n, p, w))"
   ]
  },
  {
   "cell_type": "code",
   "execution_count": 4,
   "metadata": {},
   "outputs": [
    {
     "name": "stdout",
     "output_type": "stream",
     "text": [
      "16\n"
     ]
    }
   ],
   "source": [
    "# # Driver program\n",
    "C = 14\n",
    "w = [5, 6, 8]\n",
    "p = [7, 6, 9]\n",
    "n = len(w)\n",
    " \n",
    "print(unboundedKnapsack(C, n, p, w))"
   ]
  }
 ],
 "metadata": {
  "kernelspec": {
   "display_name": "Python 3",
   "language": "python",
   "name": "python3"
  },
  "language_info": {
   "codemirror_mode": {
    "name": "ipython",
    "version": 3
   },
   "file_extension": ".py",
   "mimetype": "text/x-python",
   "name": "python",
   "nbconvert_exporter": "python",
   "pygments_lexer": "ipython3",
   "version": "3.10.6"
  },
  "orig_nbformat": 4,
  "vscode": {
   "interpreter": {
    "hash": "b0fa6594d8f4cbf19f97940f81e996739fb7646882a419484c72d19e05852a7e"
   }
  }
 },
 "nbformat": 4,
 "nbformat_minor": 2
}
