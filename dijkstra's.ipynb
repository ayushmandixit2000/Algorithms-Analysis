{
 "cells": [
  {
   "cell_type": "code",
   "execution_count": 8,
   "metadata": {},
   "outputs": [
    {
     "name": "stdout",
     "output_type": "stream",
     "text": [
      "[[1, 2], [0, 2], [1, 3, 0], [2, 4], [3]]\n"
     ]
    }
   ],
   "source": [
    "import random\n",
    "\n",
    "#Note that for a connected graph(we want this for this exercise) num_edges has to be between (more than or equal to/less than or equal to) num_vertices and (num_vertices * (num_vertices-1))/2\n",
    "def generate_connected_grap_adj_matrix(num_vertices, num_edges):\n",
    "    # Initialize the adjacency matrix with all zeroes\n",
    "    adjacency_matrix = [[0 for j in range(num_vertices)] for i in range(num_vertices)]\n",
    "    \n",
    "    # Connect the first two vertices\n",
    "    adjacency_matrix[0][1] = 1\n",
    "    adjacency_matrix[1][0] = 1\n",
    "    \n",
    "    # Connect the rest of the vertices\n",
    "    for i in range(2, num_vertices):\n",
    "        # Choose a random vertex to connect to\n",
    "        j = random.randint(0, i-1)\n",
    "        # Connect the vertices\n",
    "        adjacency_matrix[i][j] = 1\n",
    "        adjacency_matrix[j][i] = 1\n",
    "    \n",
    "    # Add additional edges until the desired number of edges is reached\n",
    "    num_added_edges = num_vertices - 1\n",
    "    while num_added_edges < num_edges:\n",
    "        # Choose two random vertices\n",
    "        i = random.randint(0, num_vertices-1)\n",
    "        j = random.randint(0, num_vertices-1)\n",
    "        # Make sure the vertices are not already connected and not the same vertex\n",
    "        if i != j and adjacency_matrix[i][j] == 0:\n",
    "            # Connect the vertices\n",
    "            adjacency_matrix[i][j] = 1\n",
    "            adjacency_matrix[j][i] = 1\n",
    "            num_added_edges += 1\n",
    "    \n",
    "    return adjacency_matrix\n",
    "\n",
    "\n",
    "\n",
    "#Note that for a connected graph(we want this for this exercise) num_edges has to be between (more than or equal to/less than or equal to) num_vertices and (num_vertices * (num_vertices-1))/2\n",
    "def generate_graph_adj_lists(num_vertices, num_edges):\n",
    "    # create an empty graph with num_vertices vertices\n",
    "    graph = [[] for _ in range(num_vertices)]\n",
    "    # make sure the graph is connected by starting with a tree\n",
    "    tree_edges = num_vertices - 1\n",
    "    for i in range(tree_edges):\n",
    "        graph[i].append(i+1)\n",
    "        graph[i+1].append(i)\n",
    "    # add additional edges until we reach the desired number of edges\n",
    "    while tree_edges < num_edges:\n",
    "        u = random.randint(0, num_vertices-1)\n",
    "        v = random.randint(0, num_vertices-1)\n",
    "        if u != v and v not in graph[u]:\n",
    "            graph[u].append(v)\n",
    "            graph[v].append(u)\n",
    "            tree_edges += 1\n",
    "    return graph\n",
    "\n",
    "\n"
   ]
  }
 ],
 "metadata": {
  "kernelspec": {
   "display_name": "Python 3",
   "language": "python",
   "name": "python3"
  },
  "language_info": {
   "codemirror_mode": {
    "name": "ipython",
    "version": 3
   },
   "file_extension": ".py",
   "mimetype": "text/x-python",
   "name": "python",
   "nbconvert_exporter": "python",
   "pygments_lexer": "ipython3",
   "version": "3.10.6"
  },
  "orig_nbformat": 4,
  "vscode": {
   "interpreter": {
    "hash": "b0fa6594d8f4cbf19f97940f81e996739fb7646882a419484c72d19e05852a7e"
   }
  }
 },
 "nbformat": 4,
 "nbformat_minor": 2
}
