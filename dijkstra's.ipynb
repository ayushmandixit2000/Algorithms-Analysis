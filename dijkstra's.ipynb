{
 "cells": [
  {
   "cell_type": "code",
   "execution_count": 3,
   "metadata": {},
   "outputs": [
    {
     "name": "stdout",
     "output_type": "stream",
     "text": [
      "[[0, 0, 0, 0, 0], [0, 0, 0, 1, 0], [0, 0, 0, 0, 0], [0, 1, 0, 0, 0], [0, 0, 0, 0, 0]]\n"
     ]
    }
   ],
   "source": [
    "#generate an input graph stored in an adjaceny matrix\n",
    "import random\n",
    "\n",
    "# Define the number of vertices in the graph\n",
    "num_vertices = 5\n",
    "\n",
    "# Create an empty adjacency matrix\n",
    "adj_matrix = [[0 for i in range(num_vertices)] for j in range(num_vertices)]\n",
    "\n",
    "# Define the probability of an edge existing between two vertices\n",
    "p = 0.3\n",
    "\n",
    "# Generate the edges randomly\n",
    "for i in range(num_vertices):\n",
    "    for j in range(i+1, num_vertices):\n",
    "        if random.random() < p:\n",
    "            # If the random number is less than the probability, add an edge\n",
    "            adj_matrix[i][j] = 1\n",
    "            adj_matrix[j][i] = 1\n",
    "\n",
    "# Print the adjacency matrix\n",
    "print(adj_matrix)\n",
    "\n"
   ]
  }
 ],
 "metadata": {
  "kernelspec": {
   "display_name": "Python 3",
   "language": "python",
   "name": "python3"
  },
  "language_info": {
   "codemirror_mode": {
    "name": "ipython",
    "version": 3
   },
   "file_extension": ".py",
   "mimetype": "text/x-python",
   "name": "python",
   "nbconvert_exporter": "python",
   "pygments_lexer": "ipython3",
   "version": "3.10.6"
  },
  "orig_nbformat": 4,
  "vscode": {
   "interpreter": {
    "hash": "b0fa6594d8f4cbf19f97940f81e996739fb7646882a419484c72d19e05852a7e"
   }
  }
 },
 "nbformat": 4,
 "nbformat_minor": 2
}
